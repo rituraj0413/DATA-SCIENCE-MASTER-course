{
 "cells": [
  {
   "cell_type": "code",
   "execution_count": 5,
   "id": "78660e5b-12e7-4abe-adc5-c2a8aaad79a6",
   "metadata": {},
   "outputs": [],
   "source": [
    "class pwskills:\n",
    "    def student_details(self, name, mail_id, number):\n",
    "        print(name , mail_id, number)"
   ]
  },
  {
   "cell_type": "code",
   "execution_count": 6,
   "id": "8be64255-e5ff-4676-89bd-2fbdf737422a",
   "metadata": {},
   "outputs": [],
   "source": [
    "pw= pwskills()"
   ]
  },
  {
   "cell_type": "code",
   "execution_count": 8,
   "id": "4f8b2984-f8a2-4fd4-9f34-2b8d832798b8",
   "metadata": {},
   "outputs": [
    {
     "name": "stdout",
     "output_type": "stream",
     "text": [
      "ritu ritu0413gmail.com 6476634\n"
     ]
    }
   ],
   "source": [
    "pw.student_details(\"ritu\", \"ritu0413gmail.com\", 6476634)"
   ]
  },
  {
   "cell_type": "code",
   "execution_count": 16,
   "id": "359ffe1c-821d-4961-9b2e-01be03984953",
   "metadata": {},
   "outputs": [],
   "source": [
    "class pwskills1:\n",
    "    def student_details(slef, name , mail_id , number):\n",
    "        print(name, mail_id , number)\n",
    "        \n",
    "    @staticmethod\n",
    "    def mentor_class(list_mentor) :\n",
    "        print(list_mentor)\n",
    "        \n",
    "    def mentor(self , mentor_list) :\n",
    "        print(mentor_list)"
   ]
  },
  {
   "cell_type": "code",
   "execution_count": 19,
   "id": "12685fe7-998b-470f-9112-5bc9f8cf9702",
   "metadata": {},
   "outputs": [],
   "source": [
    "pw1 = pwskills1()"
   ]
  },
  {
   "cell_type": "code",
   "execution_count": 21,
   "id": "f7281841-7634-4006-877c-dad85fe5e0c7",
   "metadata": {},
   "outputs": [
    {
     "name": "stdout",
     "output_type": "stream",
     "text": [
      "['krish', 'sudh']\n"
     ]
    }
   ],
   "source": [
    "pw1.mentor([\"krish\" , \"sudh\"])"
   ]
  },
  {
   "cell_type": "code",
   "execution_count": 22,
   "id": "80bee266-3db7-4322-b7db-f3710fa6fbc1",
   "metadata": {},
   "outputs": [
    {
     "name": "stdout",
     "output_type": "stream",
     "text": [
      "['sudh', 'krish']\n"
     ]
    }
   ],
   "source": [
    "pw1.mentor_class([\"sudh\", \"krish\"])"
   ]
  },
  {
   "cell_type": "code",
   "execution_count": 23,
   "id": "e992b74b-cbe2-48ef-b495-1d6bd7420c92",
   "metadata": {},
   "outputs": [],
   "source": [
    "class pwskills1:\n",
    "    def student_details(slef, name , mail_id , number):\n",
    "        print(name, mail_id , number)\n",
    "        \n",
    "    @staticmethod\n",
    "    def mentor_mail_id(mail_id):\n",
    "        print(mail_id)\n",
    "     \n",
    "    @staticmethod\n",
    "    def mentor_class(list_mentor) :\n",
    "        print(list_mentor)\n",
    "        pwskills1.mentor_mail_id([\"krish@gmai.com\", \"sudh@gmail.com\"])\n",
    "        \n",
    "        \n",
    "    @classmethod\n",
    "    def class_name(cls, class_name):\n",
    "        cls.mentor_class([\"sudh\",\"krish\"])\n",
    "        \n",
    "        \n",
    "    def mentor(self , mentor_list) :\n",
    "        print(mentor_list)\n",
    "        self.mentor_list([\"krish\" , \"sudh\"])"
   ]
  },
  {
   "cell_type": "code",
   "execution_count": 28,
   "id": "54f72878-867a-4337-835f-e024e015efe4",
   "metadata": {},
   "outputs": [],
   "source": [
    "pw1= pwskills1()"
   ]
  },
  {
   "cell_type": "code",
   "execution_count": 29,
   "id": "0e4d4253-f0d0-4814-a4e7-371e42dd7a91",
   "metadata": {},
   "outputs": [
    {
     "name": "stdout",
     "output_type": "stream",
     "text": [
      "ritu ritu@gmail.com 473463\n"
     ]
    }
   ],
   "source": [
    "pw1.student_details(\"ritu\", \"ritu@gmail.com\", 473463)"
   ]
  },
  {
   "cell_type": "code",
   "execution_count": 30,
   "id": "86a84d73-b7e2-471d-9871-e9b16cf67c5e",
   "metadata": {},
   "outputs": [
    {
     "name": "stdout",
     "output_type": "stream",
     "text": [
      "['krish@gmail.com', 'sudh@Gmai.com']\n"
     ]
    }
   ],
   "source": [
    "pw1.mentor_mail_id([\"krish@gmail.com\" , \"sudh@Gmai.com\"])"
   ]
  },
  {
   "cell_type": "code",
   "execution_count": null,
   "id": "d91f6f7f-adce-4f54-9727-be2fb0175c4b",
   "metadata": {},
   "outputs": [],
   "source": []
  }
 ],
 "metadata": {
  "kernelspec": {
   "display_name": "Python 3 (ipykernel)",
   "language": "python",
   "name": "python3"
  },
  "language_info": {
   "codemirror_mode": {
    "name": "ipython",
    "version": 3
   },
   "file_extension": ".py",
   "mimetype": "text/x-python",
   "name": "python",
   "nbconvert_exporter": "python",
   "pygments_lexer": "ipython3",
   "version": "3.9.13"
  }
 },
 "nbformat": 4,
 "nbformat_minor": 5
}
