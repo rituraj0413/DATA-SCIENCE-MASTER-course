{
 "cells": [
  {
   "cell_type": "code",
   "execution_count": 7,
   "id": "fb9386d0-cb69-4ed4-929a-2344f601550b",
   "metadata": {},
   "outputs": [],
   "source": [
    "## decorator\n",
    "\n",
    "def test():\n",
    "    print(\"THIS IS MY COURSE\")\n",
    "    print(4+5)\n",
    "    print(\"this is my end of fun\")\n",
    "    \n"
   ]
  },
  {
   "cell_type": "code",
   "execution_count": 3,
   "id": "76d894fa-fb11-4125-8415-b8b0622fa99a",
   "metadata": {},
   "outputs": [
    {
     "name": "stdout",
     "output_type": "stream",
     "text": [
      "THIS IS MY COURSE\n",
      "9\n",
      "this is my end of fun\n"
     ]
    }
   ],
   "source": [
    "test()"
   ]
  },
  {
   "cell_type": "code",
   "execution_count": 8,
   "id": "c4ee02c0-9042-48bd-9756-166b96076cfb",
   "metadata": {},
   "outputs": [],
   "source": [
    "def deco(func):\n",
    "    def inner_deco():\n",
    "        print(\"this is my star of fun\")\n",
    "        func()\n",
    "        print(\"this is end of my my fun\")\n",
    "    return inner_deco    "
   ]
  },
  {
   "cell_type": "code",
   "execution_count": 9,
   "id": "2e26f2da-28d2-4ffe-ac9a-99631f687907",
   "metadata": {},
   "outputs": [],
   "source": [
    "@deco\n",
    "def test1():\n",
    "    print(4+5)\n"
   ]
  },
  {
   "cell_type": "code",
   "execution_count": 6,
   "id": "3f6122bd-0bc6-424e-b652-6b243b218e8e",
   "metadata": {},
   "outputs": [
    {
     "name": "stdout",
     "output_type": "stream",
     "text": [
      "this is my star of fun\n",
      "9\n",
      "this is end of my my fun\n"
     ]
    }
   ],
   "source": [
    "test1()"
   ]
  },
  {
   "cell_type": "code",
   "execution_count": 10,
   "id": "f6b2b84d-a9e7-4c66-947a-ca1b1ede9644",
   "metadata": {},
   "outputs": [],
   "source": [
    "import time\n",
    "def timer_test(func) :\n",
    "    def timer_test_inner() :\n",
    "        start = time.time()\n",
    "        func()\n",
    "        end = time.time()\n",
    "        print(end-start)\n",
    "    return timer_test_inner    \n",
    "    "
   ]
  },
  {
   "cell_type": "code",
   "execution_count": 11,
   "id": "31c400a2-4500-4124-9b7f-363a695673a6",
   "metadata": {},
   "outputs": [],
   "source": [
    "@timer_test\n",
    "def test2():\n",
    "    print(45+46)"
   ]
  },
  {
   "cell_type": "code",
   "execution_count": 10,
   "id": "ef68113d-f7cc-4358-ab09-50abef9ed918",
   "metadata": {},
   "outputs": [
    {
     "name": "stdout",
     "output_type": "stream",
     "text": [
      "91\n",
      "0.0006680488586425781\n"
     ]
    }
   ],
   "source": [
    "test2()"
   ]
  },
  {
   "cell_type": "code",
   "execution_count": 12,
   "id": "7bcf83e4-5f45-4f02-84db-cac100041024",
   "metadata": {},
   "outputs": [],
   "source": [
    "@timer_test\n",
    "def test3():\n",
    "    for i in range(1000):\n",
    "        pass"
   ]
  },
  {
   "cell_type": "code",
   "execution_count": 13,
   "id": "897bebfa-6525-46f2-bec8-68829a1225e6",
   "metadata": {},
   "outputs": [
    {
     "name": "stdout",
     "output_type": "stream",
     "text": [
      "4.506111145019531e-05\n"
     ]
    }
   ],
   "source": [
    "test3()"
   ]
  },
  {
   "cell_type": "code",
   "execution_count": null,
   "id": "a5323df9-7a74-464c-90fa-8c4d296659da",
   "metadata": {},
   "outputs": [],
   "source": []
  },
  {
   "cell_type": "code",
   "execution_count": null,
   "id": "5299040c-f135-49ce-bff7-0ab25da58ea7",
   "metadata": {},
   "outputs": [],
   "source": []
  },
  {
   "cell_type": "code",
   "execution_count": null,
   "id": "d3a8e7fa-dd99-44ae-b01a-c2db00443ef9",
   "metadata": {},
   "outputs": [],
   "source": []
  },
  {
   "cell_type": "code",
   "execution_count": null,
   "id": "253ccf5e-f93f-46e2-92db-ff5bb701e3b9",
   "metadata": {},
   "outputs": [],
   "source": []
  }
 ],
 "metadata": {
  "kernelspec": {
   "display_name": "Python 3 (ipykernel)",
   "language": "python",
   "name": "python3"
  },
  "language_info": {
   "codemirror_mode": {
    "name": "ipython",
    "version": 3
   },
   "file_extension": ".py",
   "mimetype": "text/x-python",
   "name": "python",
   "nbconvert_exporter": "python",
   "pygments_lexer": "ipython3",
   "version": "3.9.13"
  }
 },
 "nbformat": 4,
 "nbformat_minor": 5
}
