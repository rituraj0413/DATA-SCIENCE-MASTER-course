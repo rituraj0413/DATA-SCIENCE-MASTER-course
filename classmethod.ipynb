{
 "cells": [
  {
   "cell_type": "code",
   "execution_count": 1,
   "id": "f8311cd6-33dd-4d41-954a-9c726913a074",
   "metadata": {},
   "outputs": [],
   "source": [
    "class pwskill:\n",
    "    def __init__(self, name , email):\n",
    "        \n",
    "        self.name= name\n",
    "        self.email= email\n",
    "        \n",
    "    def student_details(self):\n",
    "        print(self.name , self.email)"
   ]
  },
  {
   "cell_type": "code",
   "execution_count": 2,
   "id": "e6acadb9-c0aa-4607-931e-1fab99a0d0df",
   "metadata": {},
   "outputs": [],
   "source": [
    "pw = pwskill(\"ritu\" , \"ritu@gmai.com\")"
   ]
  },
  {
   "cell_type": "code",
   "execution_count": 3,
   "id": "e52a90d3-34d8-4031-a7d4-7fe824798510",
   "metadata": {},
   "outputs": [
    {
     "data": {
      "text/plain": [
       "'ritu'"
      ]
     },
     "execution_count": 3,
     "metadata": {},
     "output_type": "execute_result"
    }
   ],
   "source": [
    "pw.name"
   ]
  },
  {
   "cell_type": "code",
   "execution_count": 4,
   "id": "9dedb53d-a650-4ce3-bdb9-a3109db78aea",
   "metadata": {},
   "outputs": [
    {
     "data": {
      "text/plain": [
       "'ritu@gmai.com'"
      ]
     },
     "execution_count": 4,
     "metadata": {},
     "output_type": "execute_result"
    }
   ],
   "source": [
    "pw.email"
   ]
  },
  {
   "cell_type": "code",
   "execution_count": 5,
   "id": "dd1b9108-7e2d-453b-9b96-55b1351c9b3e",
   "metadata": {},
   "outputs": [
    {
     "name": "stdout",
     "output_type": "stream",
     "text": [
      "ritu ritu@gmai.com\n"
     ]
    }
   ],
   "source": [
    "pw.student_details()"
   ]
  },
  {
   "cell_type": "code",
   "execution_count": 12,
   "id": "2d57283a-3ef6-4d3b-93fb-812c9e562553",
   "metadata": {},
   "outputs": [],
   "source": [
    "class pwskill1:\n",
    "    def __init__(self, name , email):\n",
    "        \n",
    "        self.name= name\n",
    "        self.email= email\n",
    "        \n",
    "    @classmethod    \n",
    "    def details(cls, name , email):\n",
    "        return cls(name, email)\n",
    "        \n",
    "    def student_details(self):\n",
    "        print(self.name , self.email)"
   ]
  },
  {
   "cell_type": "code",
   "execution_count": 13,
   "id": "0240d6a5-c16a-4492-bd16-d7d7497e8ee8",
   "metadata": {},
   "outputs": [],
   "source": [
    "pw1 =pwskill1.details(\"ritu\", \"ritu@gmail.com\")"
   ]
  },
  {
   "cell_type": "code",
   "execution_count": 14,
   "id": "8cb315c1-2d7d-41ce-ac27-12c2c1666c0b",
   "metadata": {},
   "outputs": [
    {
     "data": {
      "text/plain": [
       "'ritu'"
      ]
     },
     "execution_count": 14,
     "metadata": {},
     "output_type": "execute_result"
    }
   ],
   "source": [
    "pw1.name"
   ]
  },
  {
   "cell_type": "code",
   "execution_count": 15,
   "id": "8eb3be5b-77f1-42ab-97a5-36e2f57b7ac7",
   "metadata": {},
   "outputs": [
    {
     "data": {
      "text/plain": [
       "'ritu@gmail.com'"
      ]
     },
     "execution_count": 15,
     "metadata": {},
     "output_type": "execute_result"
    }
   ],
   "source": [
    "pw1.email"
   ]
  },
  {
   "cell_type": "code",
   "execution_count": 16,
   "id": "ba296517-03f8-4bf8-a726-83d0610a47de",
   "metadata": {},
   "outputs": [
    {
     "name": "stdout",
     "output_type": "stream",
     "text": [
      "ritu ritu@gmail.com\n"
     ]
    }
   ],
   "source": [
    "pw1.student_details()"
   ]
  },
  {
   "cell_type": "code",
   "execution_count": 26,
   "id": "0cd824c0-8b20-4a4f-a8d9-9d04a760bee2",
   "metadata": {},
   "outputs": [],
   "source": [
    "class pwskill2:\n",
    "    \n",
    "    mobile_number = 6205587726\n",
    "    \n",
    "    \n",
    "    def __init__(self, name , email):\n",
    "        \n",
    "        self.name= name\n",
    "        self.email= email\n",
    "        \n",
    "    @classmethod\n",
    "    def change_number(cls, mobile):\n",
    "        pwskill2.mobile_number= mobile\n",
    "        \n",
    "    @classmethod    \n",
    "    def details(cls, name , email):\n",
    "        return cls(name, email)\n",
    "        \n",
    "    def student_details(self):\n",
    "        print(self.name , self.email, pwskills2.mobile_number)"
   ]
  },
  {
   "cell_type": "code",
   "execution_count": 20,
   "id": "bc1a347f-9a76-4b56-a122-ba847b00425d",
   "metadata": {},
   "outputs": [
    {
     "data": {
      "text/plain": [
       "6205587726"
      ]
     },
     "execution_count": 20,
     "metadata": {},
     "output_type": "execute_result"
    }
   ],
   "source": [
    "pwskill1.mobile_number"
   ]
  },
  {
   "cell_type": "code",
   "execution_count": 24,
   "id": "30641f14-20a0-4fa3-9272-4329fb2ebeea",
   "metadata": {},
   "outputs": [],
   "source": [
    "pw2= pwskill2.details(\"sohan\" ,\" sohan@gmail.com\")"
   ]
  },
  {
   "cell_type": "code",
   "execution_count": 25,
   "id": "d15e862d-def4-4e32-be71-35ccee3a48ab",
   "metadata": {},
   "outputs": [
    {
     "data": {
      "text/plain": [
       "6205587726"
      ]
     },
     "execution_count": 25,
     "metadata": {},
     "output_type": "execute_result"
    }
   ],
   "source": [
    "pwskill2.mobile_number"
   ]
  },
  {
   "cell_type": "code",
   "execution_count": 27,
   "id": "1983a2e5-34e1-4944-82a9-8a25bb2d8b19",
   "metadata": {},
   "outputs": [],
   "source": [
    "pwskill2.change_number(8405587726)"
   ]
  },
  {
   "cell_type": "code",
   "execution_count": 28,
   "id": "4b6a7af9-8247-4dbb-8833-8ec3a475c7c3",
   "metadata": {},
   "outputs": [
    {
     "data": {
      "text/plain": [
       "<bound method pwskill2.change_number of <class '__main__.pwskill2'>>"
      ]
     },
     "execution_count": 28,
     "metadata": {},
     "output_type": "execute_result"
    }
   ],
   "source": [
    "pwskill2.change_number"
   ]
  },
  {
   "cell_type": "code",
   "execution_count": 29,
   "id": "5a664b8c-ea86-469b-92d2-e0a34f007d6a",
   "metadata": {},
   "outputs": [],
   "source": [
    "pw2_obj = pwskill2(\"sohal\", \"sohan@gmailcom\")"
   ]
  },
  {
   "cell_type": "code",
   "execution_count": 31,
   "id": "0961dc6a-e660-432e-be8b-9cd26b346eeb",
   "metadata": {},
   "outputs": [
    {
     "data": {
      "text/plain": [
       "<__main__.pwskill2 at 0x7f90801d9670>"
      ]
     },
     "execution_count": 31,
     "metadata": {},
     "output_type": "execute_result"
    }
   ],
   "source": [
    "pw2_obj.details(\"ritu\" , \"ritu@gmail.com\")"
   ]
  },
  {
   "cell_type": "code",
   "execution_count": 32,
   "id": "d76014d8-fe23-42d3-9215-10fb6a23f234",
   "metadata": {},
   "outputs": [],
   "source": [
    "pw2_obj.change_number(92498343)"
   ]
  },
  {
   "cell_type": "code",
   "execution_count": 33,
   "id": "c3a1980c-cc83-4ee1-ac12-e69ad14654ba",
   "metadata": {},
   "outputs": [
    {
     "data": {
      "text/plain": [
       "'sohal'"
      ]
     },
     "execution_count": 33,
     "metadata": {},
     "output_type": "execute_result"
    }
   ],
   "source": [
    "pw2_obj.name"
   ]
  },
  {
   "cell_type": "code",
   "execution_count": 35,
   "id": "26f4f2e8-ecf6-43a5-81c1-f55eb754c139",
   "metadata": {},
   "outputs": [
    {
     "data": {
      "text/plain": [
       "92498343"
      ]
     },
     "execution_count": 35,
     "metadata": {},
     "output_type": "execute_result"
    }
   ],
   "source": [
    "pw2_obj.mobile_number"
   ]
  },
  {
   "cell_type": "code",
   "execution_count": 36,
   "id": "7d4f7bc0-daf0-4fa1-b4d5-0330da698fcf",
   "metadata": {},
   "outputs": [],
   "source": [
    "class pwskill3:\n",
    "    \n",
    "    mobile_number = 6205587726\n",
    "    \n",
    "    \n",
    "    def __init__(self, name , email):\n",
    "        \n",
    "        self.name= name\n",
    "        self.email= email\n",
    "        \n",
    "    @classmethod\n",
    "    def change_number(cls, mobile):\n",
    "        pwskill2.mobile_number= mobile\n",
    "        \n",
    "    @classmethod    \n",
    "    def details(cls, name , email):\n",
    "        return cls(name, email)\n",
    "        \n",
    "    def student_details(self):\n",
    "        print(self.name , self.email, pwskills2.mobile_number)"
   ]
  },
  {
   "cell_type": "code",
   "execution_count": 39,
   "id": "49b8bd82-0c3b-414d-a7a7-1891c58487c9",
   "metadata": {},
   "outputs": [],
   "source": [
    "def course_details(cls, course_name):\n",
    "    print(\"course details\" , course_name)"
   ]
  },
  {
   "cell_type": "code",
   "execution_count": 42,
   "id": "a465c4dc-f361-4cb8-89f3-04286f020480",
   "metadata": {},
   "outputs": [],
   "source": [
    "pwskill3.course_details= classmethod(course_details)"
   ]
  },
  {
   "cell_type": "code",
   "execution_count": 43,
   "id": "ad9118f2-bb6d-4b63-becd-815215fd7a39",
   "metadata": {},
   "outputs": [
    {
     "name": "stdout",
     "output_type": "stream",
     "text": [
      "course details data science master\n"
     ]
    }
   ],
   "source": [
    "pwskill3.course_details(\"data science master\")"
   ]
  },
  {
   "cell_type": "code",
   "execution_count": 44,
   "id": "6934f7d4-a77f-4c84-b839-0f19d069a6ce",
   "metadata": {},
   "outputs": [],
   "source": [
    "class pwskill4:\n",
    "    \n",
    "    mobile_number = 6205587726\n",
    "    \n",
    "    \n",
    "    def __init__(self, name , email):\n",
    "        \n",
    "        self.name= name\n",
    "        self.email= email\n",
    "        \n",
    "    @classmethod\n",
    "    def change_number(cls, mobile):\n",
    "        pwskill2.mobile_number= mobile\n",
    "        \n",
    "    @classmethod    \n",
    "    def details(cls, name , email):\n",
    "        return cls(name, email)\n",
    "        \n",
    "    def student_details(self):\n",
    "        print(self.name , self.email, pwskills2.mobile_number)"
   ]
  },
  {
   "cell_type": "code",
   "execution_count": 45,
   "id": "466bbc73-c420-4e86-9d17-0762934dc805",
   "metadata": {},
   "outputs": [
    {
     "ename": "SyntaxError",
     "evalue": "cannot delete function call (1730554460.py, line 1)",
     "output_type": "error",
     "traceback": [
      "\u001b[0;36m  File \u001b[0;32m\"/var/folders/fd/hfyxn16n77v2xc3jhkw_7pjc0000gn/T/ipykernel_7230/1730554460.py\"\u001b[0;36m, line \u001b[0;32m1\u001b[0m\n\u001b[0;31m    del pwskill4.changenumber(6205587726)\u001b[0m\n\u001b[0m        ^\u001b[0m\n\u001b[0;31mSyntaxError\u001b[0m\u001b[0;31m:\u001b[0m cannot delete function call\n"
     ]
    }
   ],
   "source": [
    "del pwskill4.changenumber(6205587726)"
   ]
  },
  {
   "cell_type": "code",
   "execution_count": 46,
   "id": "72745a95-f89d-40aa-96bb-ad43c0d8bd1f",
   "metadata": {},
   "outputs": [],
   "source": [
    "delattr(pwskill4, \"details\")"
   ]
  },
  {
   "cell_type": "code",
   "execution_count": 47,
   "id": "915b6bb6-2988-41f5-b024-b870dc6e9baf",
   "metadata": {},
   "outputs": [
    {
     "data": {
      "text/plain": [
       "6205587726"
      ]
     },
     "execution_count": 47,
     "metadata": {},
     "output_type": "execute_result"
    }
   ],
   "source": [
    "pwskill4.mobile_number"
   ]
  },
  {
   "cell_type": "code",
   "execution_count": 51,
   "id": "d4fda90b-b665-413f-8abe-3c11ccfd2f0f",
   "metadata": {},
   "outputs": [],
   "source": [
    "delattr(pwskill4 , \"mobile_number\")"
   ]
  },
  {
   "cell_type": "code",
   "execution_count": 52,
   "id": "8925c64b-be8b-4d85-8ae8-220a0c8aeb85",
   "metadata": {},
   "outputs": [
    {
     "ename": "AttributeError",
     "evalue": "type object 'pwskill4' has no attribute 'mobile_number'",
     "output_type": "error",
     "traceback": [
      "\u001b[0;31m---------------------------------------------------------------------------\u001b[0m",
      "\u001b[0;31mAttributeError\u001b[0m                            Traceback (most recent call last)",
      "\u001b[0;32m/var/folders/fd/hfyxn16n77v2xc3jhkw_7pjc0000gn/T/ipykernel_7230/3510858726.py\u001b[0m in \u001b[0;36m<module>\u001b[0;34m\u001b[0m\n\u001b[0;32m----> 1\u001b[0;31m \u001b[0mpwskill4\u001b[0m\u001b[0;34m.\u001b[0m\u001b[0mmobile_number\u001b[0m\u001b[0;34m\u001b[0m\u001b[0;34m\u001b[0m\u001b[0m\n\u001b[0m",
      "\u001b[0;31mAttributeError\u001b[0m: type object 'pwskill4' has no attribute 'mobile_number'"
     ]
    }
   ],
   "source": [
    "pwskill4.mobile_number"
   ]
  },
  {
   "cell_type": "code",
   "execution_count": 53,
   "id": "0bb4c7ab-2d9a-4f0c-8ab0-60ab36c8548e",
   "metadata": {},
   "outputs": [],
   "source": [
    "delattr(pwskill4 , \"student_details\")"
   ]
  },
  {
   "cell_type": "code",
   "execution_count": 55,
   "id": "c6ed7c67-1ed4-4d29-9ab1-d4e4e5f83069",
   "metadata": {},
   "outputs": [
    {
     "data": {
      "text/plain": [
       "__main__.pwskill4"
      ]
     },
     "execution_count": 55,
     "metadata": {},
     "output_type": "execute_result"
    }
   ],
   "source": [
    "pwskill4"
   ]
  },
  {
   "cell_type": "code",
   "execution_count": null,
   "id": "c034498f-e14e-49da-a2e5-a7b404bc3565",
   "metadata": {},
   "outputs": [],
   "source": []
  }
 ],
 "metadata": {
  "kernelspec": {
   "display_name": "Python 3 (ipykernel)",
   "language": "python",
   "name": "python3"
  },
  "language_info": {
   "codemirror_mode": {
    "name": "ipython",
    "version": 3
   },
   "file_extension": ".py",
   "mimetype": "text/x-python",
   "name": "python",
   "nbconvert_exporter": "python",
   "pygments_lexer": "ipython3",
   "version": "3.9.13"
  }
 },
 "nbformat": 4,
 "nbformat_minor": 5
}
